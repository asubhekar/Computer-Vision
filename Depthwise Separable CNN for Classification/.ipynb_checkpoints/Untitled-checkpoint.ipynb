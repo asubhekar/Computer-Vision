{
 "cells": [
  {
   "cell_type": "markdown",
   "id": "63545373",
   "metadata": {},
   "source": [
    "### Depthwise Separable Convolutional Network for image classification"
   ]
  },
  {
   "cell_type": "code",
   "execution_count": 22,
   "id": "cfd173c1",
   "metadata": {},
   "outputs": [],
   "source": [
    "import numpy as np\n",
    "import matplotlib.pyplot as plt\n",
    "import tensorflow.keras as keras\n",
    "import tensorflow as tf\n",
    "from keras.datasets import mnist\n",
    "from keras.models import Model\n",
    "from keras.layers import Input, Conv2D, MaxPooling2D, Dense, Flatten, SeparableConv2D"
   ]
  },
  {
   "cell_type": "code",
   "execution_count": 14,
   "id": "24bbd420",
   "metadata": {},
   "outputs": [],
   "source": [
    "# Loading the dataset\n",
    "(X_train, y_train),(X_test, y_test) = keras.datasets.cifar10.load_data()"
   ]
  },
  {
   "cell_type": "markdown",
   "id": "98a598ea",
   "metadata": {},
   "source": [
    "### Using Normal Convolution Layers "
   ]
  },
  {
   "cell_type": "code",
   "execution_count": 19,
   "id": "88429677",
   "metadata": {},
   "outputs": [],
   "source": [
    "def vgg_block(layers_in, n_filter, n_conv):\n",
    "    # adding convolution layers\n",
    "    for _ in range(n_conv):\n",
    "        layers_in = Conv2D(filters=n_filter, kernel_size=(3,3), padding=('same'), activation='relu')(layers_in)\n",
    "        # adding Max Pooling layers\n",
    "    layers_in = MaxPooling2D((2,2), strides=(2,2))(layers_in)\n",
    "    return layers_in"
   ]
  },
  {
   "cell_type": "code",
   "execution_count": 20,
   "id": "3217193b",
   "metadata": {},
   "outputs": [
    {
     "name": "stdout",
     "output_type": "stream",
     "text": [
      "Model: \"model\"\n",
      "_________________________________________________________________\n",
      " Layer (type)                Output Shape              Param #   \n",
      "=================================================================\n",
      " input_5 (InputLayer)        [(None, 32, 32, 3)]       0         \n",
      "                                                                 \n",
      " conv2d_24 (Conv2D)          (None, 32, 32, 64)        1792      \n",
      "                                                                 \n",
      " conv2d_25 (Conv2D)          (None, 32, 32, 64)        36928     \n",
      "                                                                 \n",
      " max_pooling2d_24 (MaxPooli  (None, 16, 16, 64)        0         \n",
      " ng2D)                                                           \n",
      "                                                                 \n",
      " conv2d_26 (Conv2D)          (None, 16, 16, 128)       73856     \n",
      "                                                                 \n",
      " conv2d_27 (Conv2D)          (None, 16, 16, 128)       147584    \n",
      "                                                                 \n",
      " max_pooling2d_25 (MaxPooli  (None, 8, 8, 128)         0         \n",
      " ng2D)                                                           \n",
      "                                                                 \n",
      " conv2d_28 (Conv2D)          (None, 8, 8, 256)         295168    \n",
      "                                                                 \n",
      " conv2d_29 (Conv2D)          (None, 8, 8, 256)         590080    \n",
      "                                                                 \n",
      " max_pooling2d_26 (MaxPooli  (None, 4, 4, 256)         0         \n",
      " ng2D)                                                           \n",
      "                                                                 \n",
      " flatten (Flatten)           (None, 4096)              0         \n",
      "                                                                 \n",
      " dense (Dense)               (None, 10)                40970     \n",
      "                                                                 \n",
      "=================================================================\n",
      "Total params: 1186378 (4.53 MB)\n",
      "Trainable params: 1186378 (4.53 MB)\n",
      "Non-trainable params: 0 (0.00 Byte)\n",
      "_________________________________________________________________\n"
     ]
    }
   ],
   "source": [
    "# Configuring the neural network \n",
    "visible = Input(shape = (32, 32, 3))\n",
    "layer = vgg_block(visible, 64, 2)\n",
    "layer = vgg_block(layer, 128, 2)\n",
    "layer = vgg_block(layer, 256, 2)\n",
    "layer = Flatten()(layer)\n",
    "layer = Dense(units=10, activation='softmax')(layer)\n",
    "\n",
    "# Creating the model\n",
    "model = Model(inputs=visible, outputs=layer)\n",
    "\n",
    "# Model Summary\n",
    "model.summary()"
   ]
  },
  {
   "cell_type": "code",
   "execution_count": 26,
   "id": "470cf68c",
   "metadata": {},
   "outputs": [
    {
     "name": "stdout",
     "output_type": "stream",
     "text": [
      "Epoch 1/10\n",
      "391/391 [==============================] - 22s 50ms/step - loss: 1.7500 - acc: 0.4374 - val_loss: 1.1868 - val_acc: 0.5757\n",
      "Epoch 2/10\n",
      "391/391 [==============================] - 19s 49ms/step - loss: 1.0258 - acc: 0.6403 - val_loss: 0.9377 - val_acc: 0.6779\n",
      "Epoch 3/10\n",
      "391/391 [==============================] - 19s 49ms/step - loss: 0.7909 - acc: 0.7287 - val_loss: 0.8682 - val_acc: 0.7029\n",
      "Epoch 4/10\n",
      "391/391 [==============================] - 19s 49ms/step - loss: 0.6456 - acc: 0.7783 - val_loss: 0.8454 - val_acc: 0.7200\n",
      "Epoch 5/10\n",
      "391/391 [==============================] - 19s 49ms/step - loss: 0.5267 - acc: 0.8195 - val_loss: 0.7904 - val_acc: 0.7516\n",
      "Epoch 6/10\n",
      "391/391 [==============================] - 19s 49ms/step - loss: 0.4362 - acc: 0.8477 - val_loss: 0.8340 - val_acc: 0.7354\n",
      "Epoch 7/10\n",
      "391/391 [==============================] - 19s 49ms/step - loss: 0.3590 - acc: 0.8755 - val_loss: 0.8657 - val_acc: 0.7531\n",
      "Epoch 8/10\n",
      "391/391 [==============================] - 19s 49ms/step - loss: 0.3207 - acc: 0.8896 - val_loss: 0.8695 - val_acc: 0.7500\n",
      "Epoch 9/10\n",
      "391/391 [==============================] - 19s 49ms/step - loss: 0.2763 - acc: 0.9032 - val_loss: 0.9268 - val_acc: 0.7532\n",
      "Epoch 10/10\n",
      "391/391 [==============================] - 19s 49ms/step - loss: 0.2610 - acc: 0.9096 - val_loss: 1.1012 - val_acc: 0.7295\n"
     ]
    }
   ],
   "source": [
    "# Compiling the model \n",
    "model.compile(optimizer='adam', loss=tf.keras.losses.SparseCategoricalCrossentropy(), metrics='acc')\n",
    "\n",
    "# Fitting the model\n",
    "history = model.fit(x=X_train, y=y_train, batch_size=128, epochs=10, validation_data=(X_test, y_test))"
   ]
  },
  {
   "cell_type": "code",
   "execution_count": 37,
   "id": "7813c4fd",
   "metadata": {},
   "outputs": [
    {
     "data": {
      "text/plain": [
       "[<matplotlib.lines.Line2D at 0x179e63820>]"
      ]
     },
     "execution_count": 37,
     "metadata": {},
     "output_type": "execute_result"
    },
    {
     "data": {
      "image/png": "[encoded data removed]",
      "text/plain": [
       "<Figure size 640x480 with 1 Axes>"
      ]
     },
     "metadata": {},
     "output_type": "display_data"
    }
   ],
   "source": [
    "# Evaluation \n",
    "epochs = [i for i in range(10)]\n",
    "plt.figure()\n",
    "plt.plot(epochs, history.history['acc'], color='darkorange', lw=2, label = 'Training accuracy')\n",
    "plt.plot(epochs, history.history['val_acc'], color='green', lw=2, label = 'Validation accuracy')"
   ]
  },
  {
   "cell_type": "markdown",
   "id": "de2b9300",
   "metadata": {},
   "source": [
    "### Using Depth Separable Convolution Layer"
   ]
  },
  {
   "cell_type": "code",
   "execution_count": 41,
   "id": "6baafb2a",
   "metadata": {},
   "outputs": [],
   "source": [
    "def vgg_depthseparable_block(layers_in, n_filter, n_conv):\n",
    "    # adding convolution layers\n",
    "    for _ in range(n_conv):\n",
    "        layers_in = SeparableConv2D(filters=n_filter, kernel_size=(3,3), padding=('same'), activation='relu')(layers_in)\n",
    "        # adding Max Pooling layers\n",
    "    layers_in = MaxPooling2D((2,2), strides=(2,2))(layers_in)\n",
    "    return layers_in"
   ]
  },
  {
   "cell_type": "code",
   "execution_count": 42,
   "id": "3e6f02e0",
   "metadata": {},
   "outputs": [
    {
     "name": "stdout",
     "output_type": "stream",
     "text": [
      "Model: \"model_2\"\n",
      "_________________________________________________________________\n",
      " Layer (type)                Output Shape              Param #   \n",
      "=================================================================\n",
      " input_7 (InputLayer)        [(None, 32, 32, 3)]       0         \n",
      "                                                                 \n",
      " separable_conv2d_6 (Separa  (None, 32, 32, 64)        283       \n",
      " bleConv2D)                                                      \n",
      "                                                                 \n",
      " separable_conv2d_7 (Separa  (None, 32, 32, 64)        4736      \n",
      " bleConv2D)                                                      \n",
      "                                                                 \n",
      " max_pooling2d_30 (MaxPooli  (None, 16, 16, 64)        0         \n",
      " ng2D)                                                           \n",
      "                                                                 \n",
      " separable_conv2d_8 (Separa  (None, 16, 16, 128)       8896      \n",
      " bleConv2D)                                                      \n",
      "                                                                 \n",
      " separable_conv2d_9 (Separa  (None, 16, 16, 128)       17664     \n",
      " bleConv2D)                                                      \n",
      "                                                                 \n",
      " max_pooling2d_31 (MaxPooli  (None, 8, 8, 128)         0         \n",
      " ng2D)                                                           \n",
      "                                                                 \n",
      " separable_conv2d_10 (Separ  (None, 8, 8, 256)         34176     \n",
      " ableConv2D)                                                     \n",
      "                                                                 \n",
      " separable_conv2d_11 (Separ  (None, 8, 8, 256)         68096     \n",
      " ableConv2D)                                                     \n",
      "                                                                 \n",
      " max_pooling2d_32 (MaxPooli  (None, 4, 4, 256)         0         \n",
      " ng2D)                                                           \n",
      "                                                                 \n",
      " flatten_2 (Flatten)         (None, 4096)              0         \n",
      "                                                                 \n",
      " dense_2 (Dense)             (None, 10)                40970     \n",
      "                                                                 \n",
      "=================================================================\n",
      "Total params: 174821 (682.89 KB)\n",
      "Trainable params: 174821 (682.89 KB)\n",
      "Non-trainable params: 0 (0.00 Byte)\n",
      "_________________________________________________________________\n"
     ]
    }
   ],
   "source": [
    "# Configuring the neural network \n",
    "visible = Input(shape = (32, 32, 3))\n",
    "layer = vgg_depthseparable_block(visible, 64, 2)\n",
    "layer = vgg_depthseparable_block(layer, 128, 2)\n",
    "layer = vgg_depthseparable_block(layer, 256, 2)\n",
    "layer = Flatten()(layer)\n",
    "layer = Dense(units=10, activation='softmax')(layer)\n",
    "\n",
    "# Creating the model\n",
    "model = Model(inputs=visible, outputs=layer)\n",
    "\n",
    "# Model Summary\n",
    "model.summary()"
   ]
  },
  {
   "cell_type": "code",
   "execution_count": 43,
   "id": "edebd043",
   "metadata": {},
   "outputs": [
    {
     "name": "stdout",
     "output_type": "stream",
     "text": [
      "Epoch 1/10\n",
      "391/391 [==============================] - 13s 31ms/step - loss: 1.8249 - acc: 0.3250 - val_loss: 1.4694 - val_acc: 0.4607\n",
      "Epoch 2/10\n",
      "391/391 [==============================] - 12s 31ms/step - loss: 1.3232 - acc: 0.5282 - val_loss: 1.2303 - val_acc: 0.5664\n",
      "Epoch 3/10\n",
      "391/391 [==============================] - 12s 30ms/step - loss: 1.1254 - acc: 0.6054 - val_loss: 1.0557 - val_acc: 0.6233\n",
      "Epoch 4/10\n",
      "391/391 [==============================] - 12s 30ms/step - loss: 0.9700 - acc: 0.6595 - val_loss: 0.9301 - val_acc: 0.6736\n",
      "Epoch 5/10\n",
      "391/391 [==============================] - 12s 30ms/step - loss: 0.8257 - acc: 0.7132 - val_loss: 0.8678 - val_acc: 0.7027\n",
      "Epoch 6/10\n",
      "391/391 [==============================] - 12s 31ms/step - loss: 0.7175 - acc: 0.7517 - val_loss: 0.8098 - val_acc: 0.7216\n",
      "Epoch 7/10\n",
      "391/391 [==============================] - 12s 30ms/step - loss: 0.6283 - acc: 0.7826 - val_loss: 0.7558 - val_acc: 0.7378\n",
      "Epoch 8/10\n",
      "391/391 [==============================] - 12s 31ms/step - loss: 0.5496 - acc: 0.8114 - val_loss: 0.7145 - val_acc: 0.7582\n",
      "Epoch 9/10\n",
      "391/391 [==============================] - 12s 30ms/step - loss: 0.4704 - acc: 0.8369 - val_loss: 0.7446 - val_acc: 0.7567\n",
      "Epoch 10/10\n",
      "391/391 [==============================] - 12s 30ms/step - loss: 0.4091 - acc: 0.8575 - val_loss: 0.7578 - val_acc: 0.7546\n"
     ]
    }
   ],
   "source": [
    "# Compiling the model \n",
    "model.compile(optimizer='adam', loss=tf.keras.losses.SparseCategoricalCrossentropy(), metrics='acc')\n",
    "\n",
    "# Fitting the model\n",
    "history_dscv = model.fit(x=X_train, y=y_train, batch_size=128, epochs=10, validation_data=(X_test, y_test))"
   ]
  },
  {
   "cell_type": "code",
   "execution_count": 48,
   "id": "3597cf60",
   "metadata": {},
   "outputs": [
    {
     "data": {
      "text/plain": [
       "[<matplotlib.lines.Line2D at 0x281312920>]"
      ]
     },
     "execution_count": 48,
     "metadata": {},
     "output_type": "execute_result"
    },
    {
     "data": {
      "image/png": "[encoded data removed]",
      "text/plain": [
       "<Figure size 640x480 with 1 Axes>"
      ]
     },
     "metadata": {},
     "output_type": "display_data"
    }
   ],
   "source": [
    "# Evaluation \n",
    "epochs = [i for i in range(10)]\n",
    "plt.figure()\n",
    "plt.plot(epochs, history_dscv.history['acc'], color='darkorange', lw=2, label = 'Training accuracy')\n",
    "plt.plot(epochs, history_dscv.history['val_acc'], color='green', lw=2, label = 'Validation accuracy')"
   ]
  },
  {
   "cell_type": "markdown",
   "id": "7ac7bb20",
   "metadata": {},
   "source": [
    "### Conclusion"
   ]
  },
  {
   "cell_type": "markdown",
   "id": "6cc540fb",
   "metadata": {},
   "source": [
    "A normal convolution layer applies convolution along all the channels in the input while a depth separable convolution layer applies convolution along only one spatial dimension. \n",
    "\n",
    "In an RGB image, there are 3 channels with each channel containing the pixel value for that color. The depth separable convolution applies along each channel of the input and gives an the same outputs for each channel separately. While using depth wise convolution we need to use a point wise convolution layer which is basically has kernel size 1x1, hence looking at a single point across all channels. \n",
    "\n",
    "The main advantage of using depth separable convolution layer is that the number of parameters after the convolution are very less compared to a normal convolution layer. For eg. Lets say we wanted to apply 64 normal convolution filters to an image to have a 64 channel output, the number of parameters will be 3 x 3 x 3 x 64 + 64(bias) = 1792. On the other hand, using depth separable convolution will result in 3 x 3 x 1 x 3 + 3(bias) which is the single channel output and then the point wise convolution will add up with parameters 1 x 1 x 3 x 64 + 64(bias) resulting in only 256 parameters at the end of both the layers. \n",
    "\n",
    "Depthwise separable convolutions is more likely to work better on deeper models that might face an overfitting problem and on layers with larger kernels since there is a greater decrease in parameters and computations that would offset the additional computational cost of doing two convolutions instead of one."
   ]
  },
  {
   "cell_type": "code",
   "execution_count": null,
   "id": "41ebc9c7",
   "metadata": {},
   "outputs": [],
   "source": []
  }
 ],
 "metadata": {
  "kernelspec": {
   "display_name": "Python 3 (ipykernel)",
   "language": "python",
   "name": "python3"
  },
  "language_info": {
   "codemirror_mode": {
    "name": "ipython",
    "version": 3
   },
   "file_extension": ".py",
   "mimetype": "text/x-python",
   "name": "python",
   "nbconvert_exporter": "python",
   "pygments_lexer": "ipython3",
   "version": "3.10.8"
  }
 },
 "nbformat": 4,
 "nbformat_minor": 5
}
